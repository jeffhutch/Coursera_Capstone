{
 "cells": [
  {
   "cell_type": "markdown",
   "metadata": {},
   "source": [
    "# Data Description"
   ]
  },
  {
   "cell_type": "markdown",
   "metadata": {},
   "source": [
    "## Choosing the right location is a crucial decision when opening a coffee shop.  Meaning what the immediate area around your business will be like.  Foot and car traffic is key, so choosing a location in the vicinity of a business district shopping mall or university and business is easily visible.  Knowing demographics of peachtree city from neighborhood scout and en.wikipedia.org/wiki/peachtree_city_georgia will help in the process.  Foursquare location data is used to detect foot traffic. Knowing the foot traffic and consumers behavior and competition can be discovered through foursquare tool that will help in determining the perfect location for a coffee shop. The latitude and longitude helps in geotagging embed location specific data.  I can cluster based on the data such as population, income, age, location, habits, and traffic to determine location for coffee shop."
   ]
  }
 ],
 "metadata": {
  "kernelspec": {
   "display_name": "Python",
   "language": "python",
   "name": "conda-env-python-py"
  },
  "language_info": {
   "codemirror_mode": {
    "name": "ipython",
    "version": 3
   },
   "file_extension": ".py",
   "mimetype": "text/x-python",
   "name": "python",
   "nbconvert_exporter": "python",
   "pygments_lexer": "ipython3",
   "version": "3.6.7"
  }
 },
 "nbformat": 4,
 "nbformat_minor": 4
}
