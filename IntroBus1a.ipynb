{
 "cells": [
  {
   "cell_type": "markdown",
   "metadata": {},
   "source": [
    "# Introduction/Business Problem"
   ]
  },
  {
   "cell_type": "markdown",
   "metadata": {},
   "source": [
    "## Peachtree City is a community in Georgia that have big ideas and big hearts where there's Southern hospitality which meets resort style living.  Coffee in the South was a winter staple years ago. Today more people than ever before are drinking coffee.  \n",
    "## My target audience are coffee enthusiasts or aficianados, passion for community, and desire to start a coffee shop. If that's you, you would want to know the best location in Peachtree City to start your coffee shop."
   ]
  }
 ],
 "metadata": {
  "kernelspec": {
   "display_name": "Python",
   "language": "python",
   "name": "conda-env-python-py"
  },
  "language_info": {
   "codemirror_mode": {
    "name": "ipython",
    "version": 3
   },
   "file_extension": ".py",
   "mimetype": "text/x-python",
   "name": "python",
   "nbconvert_exporter": "python",
   "pygments_lexer": "ipython3",
   "version": "3.6.7"
  }
 },
 "nbformat": 4,
 "nbformat_minor": 4
}
